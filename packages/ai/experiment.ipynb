{
 "cells": [
  {
   "cell_type": "code",
   "execution_count": 1,
   "metadata": {},
   "outputs": [
    {
     "data": {
      "text/plain": [
       "True"
      ]
     },
     "execution_count": 1,
     "metadata": {},
     "output_type": "execute_result"
    }
   ],
   "source": [
    "%load_ext autoreload\n",
    "%autoreload 2\n",
    "from dotenv import load_dotenv\n",
    "import os\n",
    "load_dotenv()"
   ]
  },
  {
   "cell_type": "code",
   "execution_count": 15,
   "metadata": {},
   "outputs": [
    {
     "name": "stdout",
     "output_type": "stream",
     "text": [
      "Tu es un assistant personnaliser. Ton rôle est de correspondre au profil ci dessous.\n",
      "Appuies toi sur ces ajdectifs:\n",
      "- sympa\n",
      "- marrant\n",
      "- intelligent\n",
      "- drôle\n",
      "- gentil\n",
      "- cool\n",
      "- adorable\n",
      "Ton prénon est Lucarance.\n",
      "Utilisateur : Coucou, comment tu t'appelles ?\n"
     ]
    }
   ],
   "source": [
    "from prompts.prompts import Prompt\n",
    "from prompts.messages.user_messages import UserMessage\n",
    "from prompts.roles.personnalize import PERSONNALIZE_PROMPT\n",
    "\n",
    "prompt = Prompt(\n",
    "    system_prompt=PERSONNALIZE_PROMPT,\n",
    "    message=UserMessage(message=\"Coucou, comment tu t'appelles ?\"),\n",
    "    adjectifs=[\"sympa\", \"marrant\", \"intelligent\", \"drôle\", \"gentil\", \"cool\", \"adorable\"],\n",
    ")\n",
    "\n",
    "print(prompt.format_prompt())"
   ]
  },
  {
   "cell_type": "code",
   "execution_count": null,
   "metadata": {},
   "outputs": [],
   "source": []
  }
 ],
 "metadata": {
  "kernelspec": {
   "display_name": "garance",
   "language": "python",
   "name": "python3"
  },
  "language_info": {
   "codemirror_mode": {
    "name": "ipython",
    "version": 3
   },
   "file_extension": ".py",
   "mimetype": "text/x-python",
   "name": "python",
   "nbconvert_exporter": "python",
   "pygments_lexer": "ipython3",
   "version": "3.11.7"
  }
 },
 "nbformat": 4,
 "nbformat_minor": 2
}
